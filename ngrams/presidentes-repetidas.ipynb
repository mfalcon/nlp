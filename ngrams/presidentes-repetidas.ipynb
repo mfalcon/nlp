{
 "cells": [
  {
   "cell_type": "code",
   "execution_count": 1,
   "metadata": {
    "collapsed": true
   },
   "outputs": [],
   "source": [
    "import csv\n",
    "from datetime import datetime\n",
    "import glob\n",
    "import string\n",
    "import sys"
   ]
  },
  {
   "cell_type": "code",
   "execution_count": 2,
   "metadata": {
    "collapsed": true
   },
   "outputs": [],
   "source": [
    "import nltk"
   ]
  },
  {
   "cell_type": "code",
   "execution_count": 3,
   "metadata": {
    "collapsed": true
   },
   "outputs": [],
   "source": [
    "data = []"
   ]
  },
  {
   "cell_type": "code",
   "execution_count": 4,
   "metadata": {
    "collapsed": true
   },
   "outputs": [],
   "source": [
    "personaje = 'macri'\n",
    "n_repetidas = 100"
   ]
  },
  {
   "cell_type": "code",
   "execution_count": 5,
   "metadata": {
    "collapsed": false
   },
   "outputs": [],
   "source": [
    "discursos_frases = []\n",
    "for discurso_txt in glob.glob('data/discursos/%s/*.txt' % personaje):\n",
    "    discurso = open(discurso_txt).read()\n",
    "    discurso_sents = nltk.tokenize.sent_tokenize(discurso)\n",
    "    for ds in discurso_sents:\n",
    "        cleaned_frase = ''.join([e for e in ds if e not in string.punctuation]).strip().lower()\n",
    "        discursos_frases.append(cleaned_frase)"
   ]
  },
  {
   "cell_type": "code",
   "execution_count": 6,
   "metadata": {
    "collapsed": false
   },
   "outputs": [
    {
     "name": "stderr",
     "output_type": "stream",
     "text": [
      "/home/mfalcon/anaconda3/lib/python3.6/site-packages/ipykernel/__main__.py:5: DeprecationWarning: generator 'ngrams' raised StopIteration\n"
     ]
    }
   ],
   "source": [
    "total_ngrams = []\n",
    "for cf in discursos_frases:\n",
    "    for n in range(5,11):\n",
    "        x_ngrams = nltk.ngrams(cf.split(), n)\n",
    "        for x_grams in x_ngrams:\n",
    "            total_ngrams.append(' '.join(x_grams))"
   ]
  },
  {
   "cell_type": "code",
   "execution_count": 7,
   "metadata": {
    "collapsed": false
   },
   "outputs": [],
   "source": [
    "repetidas = nltk.FreqDist(total_ngrams)\n",
    "mas_repetidas = repetidas.most_common(int(n_repetidas))"
   ]
  },
  {
   "cell_type": "code",
   "execution_count": 8,
   "metadata": {
    "collapsed": false
   },
   "outputs": [
    {
     "data": {
      "text/plain": [
       "[('del presidente de la nación', 195),\n",
       " ('presidente de la nación mauricio', 189),\n",
       " ('de la nación mauricio macri', 188),\n",
       " ('presidente de la nación mauricio macri', 188),\n",
       " ('del presidente de la nación mauricio', 186),\n",
       " ('del presidente de la nación mauricio macri', 185),\n",
       " ('palabras del presidente de la', 176),\n",
       " ('palabras del presidente de la nación', 173),\n",
       " ('palabras del presidente de la nación mauricio', 168),\n",
       " ('palabras del presidente de la nación mauricio macri', 167),\n",
       " ('la nación mauricio macri en', 137),\n",
       " ('de la nación mauricio macri en', 137),\n",
       " ('presidente de la nación mauricio macri en', 137),\n",
       " ('del presidente de la nación mauricio macri en', 135),\n",
       " ('palabras del presidente de la nación mauricio macri en', 130),\n",
       " ('la ciudad de buenos aires', 101),\n",
       " ('y eso es lo que', 78),\n",
       " ('palabras del presidente mauricio macri', 60),\n",
       " ('nación mauricio macri en la', 59),\n",
       " ('la nación mauricio macri en la', 59),\n",
       " ('de la nación mauricio macri en la', 59),\n",
       " ('presidente de la nación mauricio macri en la', 59),\n",
       " ('del presidente de la nación mauricio macri en la', 58),\n",
       " ('la provincia de buenos aires', 57),\n",
       " ('nación mauricio macri en el', 56),\n",
       " ('palabras del presidente de la nación mauricio macri en la', 56),\n",
       " ('mauricio macri en el acto', 56),\n",
       " ('la nación mauricio macri en el', 55),\n",
       " ('de la nación mauricio macri en el', 55),\n",
       " ('presidente de la nación mauricio macri en el', 55),\n",
       " ('del presidente de la nación mauricio macri en el', 55),\n",
       " ('palabras del presidente de la nación mauricio macri en el', 53),\n",
       " ('del presidente mauricio macri en', 51),\n",
       " ('palabras del presidente mauricio macri en', 49),\n",
       " ('macri en el acto de', 45),\n",
       " ('mauricio macri en el acto de', 45),\n",
       " ('de un día para el', 45),\n",
       " ('un día para el otro', 45),\n",
       " ('de un día para el otro', 45),\n",
       " ('que somos capaces de hacer', 45),\n",
       " ('que tiene que ver con', 44),\n",
       " ('lo que somos capaces de', 42),\n",
       " ('de la ciudad de buenos', 40),\n",
       " ('nación mauricio macri en el acto', 39),\n",
       " ('lo que somos capaces de hacer', 39),\n",
       " ('la nación mauricio macri en el acto', 38),\n",
       " ('de la nación mauricio macri en el acto', 38),\n",
       " ('presidente de la nación mauricio macri en el acto', 38),\n",
       " ('del presidente de la nación mauricio macri en el acto', 38),\n",
       " ('en la ciudad de buenos', 38),\n",
       " ('en la ciudad de buenos aires', 38),\n",
       " ('de la ciudad de buenos aires', 38),\n",
       " ('de cada uno de nosotros', 35),\n",
       " ('nación mauricio macri en el acto de', 30),\n",
       " ('que tienen que ver con', 30),\n",
       " ('la nación mauricio macri en el acto de', 29),\n",
       " ('de la nación mauricio macri en el acto de', 29),\n",
       " ('presidente de la nación mauricio macri en el acto de', 29),\n",
       " ('una argentina con pobreza cero', 29),\n",
       " ('en la lucha contra el', 29),\n",
       " ('lo que nos va a', 28),\n",
       " ('pero lo importante es que', 27),\n",
       " ('es lo que todos queremos', 26),\n",
       " ('lo que había que hacer', 26),\n",
       " ('por eso es tan importante', 26),\n",
       " ('cada uno de los argentinos', 24),\n",
       " ('de la mano de la', 24),\n",
       " ('construir la argentina que soñamos', 24),\n",
       " ('tiene que ver con el', 24),\n",
       " ('lo que tenemos que hacer', 24),\n",
       " ('en la provincia de buenos', 24),\n",
       " ('el plan de infraestructura más', 24),\n",
       " ('presidente mauricio macri en el', 23),\n",
       " ('del presidente mauricio macri en el', 23),\n",
       " ('palabras del presidente mauricio macri en el', 23),\n",
       " ('el valor de la palabra', 23),\n",
       " ('en la provincia de buenos aires', 23),\n",
       " ('en lo que somos capaces', 22),\n",
       " ('de buenos aires buenos días', 22),\n",
       " ('presidente mauricio macri en la', 21),\n",
       " ('del presidente mauricio macri en la', 21),\n",
       " ('palabras del presidente mauricio macri en la', 21),\n",
       " ('es lo que nos va', 21),\n",
       " ('es lo que nos va a', 21),\n",
       " ('y esto es lo que', 21),\n",
       " ('en lo que somos capaces de', 21),\n",
       " ('en lo que somos capaces de hacer', 21),\n",
       " ('haciendo lo que había que', 20),\n",
       " ('lucha contra el cambio climático', 20),\n",
       " ('que nos va a llevar', 20),\n",
       " ('la calidad de la educación', 20),\n",
       " ('calidad de la educación pública', 20),\n",
       " ('la calidad de la educación pública', 20),\n",
       " ('plan de infraestructura más importante', 20),\n",
       " ('de infraestructura más importante de', 20),\n",
       " ('plan de infraestructura más importante de', 20),\n",
       " ('haciendo lo que había que hacer', 19),\n",
       " ('que cada uno de ustedes', 19),\n",
       " ('es lo que tenemos que', 19),\n",
       " ('al servicio de la gente', 19)]"
      ]
     },
     "execution_count": 8,
     "metadata": {},
     "output_type": "execute_result"
    }
   ],
   "source": [
    "mas_repetidas"
   ]
  }
 ],
 "metadata": {
  "kernelspec": {
   "display_name": "Python 3",
   "language": "python",
   "name": "python3"
  },
  "language_info": {
   "codemirror_mode": {
    "name": "ipython",
    "version": 3
   },
   "file_extension": ".py",
   "mimetype": "text/x-python",
   "name": "python",
   "nbconvert_exporter": "python",
   "pygments_lexer": "ipython3",
   "version": "3.6.0"
  }
 },
 "nbformat": 4,
 "nbformat_minor": 2
}
